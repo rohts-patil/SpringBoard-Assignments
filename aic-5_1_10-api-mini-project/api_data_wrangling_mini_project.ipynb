{
 "cells": [
  {
   "cell_type": "markdown",
   "metadata": {},
   "source": [
    "This exercise will require you to pull some data from the Qunadl API. Qaundl is currently the most widely used aggregator of financial market data."
   ]
  },
  {
   "cell_type": "markdown",
   "metadata": {},
   "source": [
    "As a first step, you will need to register a free account on the http://www.quandl.com website."
   ]
  },
  {
   "cell_type": "markdown",
   "metadata": {},
   "source": [
    "After you register, you will be provided with a unique API key, that you should store:"
   ]
  },
  {
   "cell_type": "code",
   "execution_count": 1,
   "metadata": {
    "collapsed": true
   },
   "outputs": [],
   "source": [
    "# Store the API key as a string - according to PEP8, constants are always named in all upper case\n",
    "API_KEY = 'a9sJ_kDpZu82RjpkUECT'"
   ]
  },
  {
   "cell_type": "markdown",
   "metadata": {},
   "source": [
    "Qaundl has a large number of data sources, but, unfortunately, most of them require a Premium subscription. Still, there are also a good number of free datasets."
   ]
  },
  {
   "cell_type": "markdown",
   "metadata": {},
   "source": [
    "For this mini project, we will focus on equities data from the Frankfurt Stock Exhange (FSE), which is available for free. We'll try and analyze the stock prices of a company called Carl Zeiss Meditec, which manufactures tools for eye examinations, as well as medical lasers for laser eye surgery: https://www.zeiss.com/meditec/int/home.html. The company is listed under the stock ticker AFX_X."
   ]
  },
  {
   "cell_type": "markdown",
   "metadata": {},
   "source": [
    "You can find the detailed Quandl API instructions here: https://docs.quandl.com/docs/time-series"
   ]
  },
  {
   "cell_type": "markdown",
   "metadata": {},
   "source": [
    "While there is a dedicated Python package for connecting to the Quandl API, we would prefer that you use the *requests* package, which can be easily downloaded using *pip* or *conda*. You can find the documentation for the package here: http://docs.python-requests.org/en/master/ "
   ]
  },
  {
   "cell_type": "markdown",
   "metadata": {},
   "source": [
    "Finally, apart from the *requests* package, you are encouraged to not use any third party Python packages, such as *pandas*, and instead focus on what's available in the Python Standard Library (the *collections* module might come in handy: https://pymotw.com/3/collections/).\n",
    "Also, since you won't have access to DataFrames, you are encouraged to us Python's native data structures - preferably dictionaries, though some questions can also be answered using lists.\n",
    "You can read more on these data structures here: https://docs.python.org/3/tutorial/datastructures.html"
   ]
  },
  {
   "cell_type": "markdown",
   "metadata": {},
   "source": [
    "Keep in mind that the JSON responses you will be getting from the API map almost one-to-one to Python's dictionaries. Unfortunately, they can be very nested, so make sure you read up on indexing dictionaries in the documentation provided above."
   ]
  },
  {
   "cell_type": "code",
   "execution_count": 2,
   "metadata": {
    "collapsed": true
   },
   "outputs": [],
   "source": [
    "# First, import the relevant modules\n",
    "import requests\n",
    "import json"
   ]
  },
  {
   "cell_type": "code",
   "execution_count": 3,
   "metadata": {
    "collapsed": true
   },
   "outputs": [],
   "source": [
    "# Now, call the Quandl API and pull out a small sample of the data (only one day) to get a glimpse\n",
    "# into the JSON structure that will be returned\n",
    "output = requests.get('https://www.quandl.com/api/v3/datasets/FSE/AFX_X/data.json?start_date=20170101&end_date=20171231&api_key='+API_KEY)"
   ]
  },
  {
   "cell_type": "code",
   "execution_count": 4,
   "metadata": {},
   "outputs": [
    {
     "data": {
      "text/plain": [
       "['Date',\n",
       " 'Open',\n",
       " 'High',\n",
       " 'Low',\n",
       " 'Close',\n",
       " 'Change',\n",
       " 'Traded Volume',\n",
       " 'Turnover',\n",
       " 'Last Price of the Day',\n",
       " 'Daily Traded Units',\n",
       " 'Daily Turnover']"
      ]
     },
     "execution_count": 4,
     "metadata": {},
     "output_type": "execute_result"
    }
   ],
   "source": [
    "# Inspect the JSON structure of the object you created, and take note of how nested it is,\n",
    "# as well as the overall structure\n",
    "output.json()['dataset_data']['column_names']"
   ]
  },
  {
   "cell_type": "markdown",
   "metadata": {},
   "source": [
    "These are your tasks for this mini project:\n",
    "\n",
    "1. Collect data from the Franfurt Stock Exchange, for the ticker AFX_X, for the whole year 2017 (keep in mind that the date format is YYYY-MM-DD).\n",
    "2. Convert the returned JSON object into a Python dictionary.\n",
    "3. Calculate what the highest and lowest opening prices were for the stock in this period.\n",
    "4. What was the largest change in any one day (based on High and Low price)?\n",
    "5. What was the largest change between any two days (based on Closing Price)?\n",
    "6. What was the average daily trading volume during this year?\n",
    "7. (Optional) What was the median trading volume during this year. (Note: you may need to implement your own function for calculating the median.)"
   ]
  },
  {
   "cell_type": "code",
   "execution_count": 5,
   "metadata": {},
   "outputs": [],
   "source": [
    "'''\n",
    "Question 2:-Convert the returned JSON object into a Python dictionary.\n",
    "'''\n",
    "prices= {}\n",
    "\n",
    "for data in output.json()['dataset_data']['data']:\n",
    "    prices[data[0]] = data[1:] \n",
    "    \n",
    "#print(prices)"
   ]
  },
  {
   "cell_type": "code",
   "execution_count": 6,
   "metadata": {},
   "outputs": [
    {
     "name": "stdout",
     "output_type": "stream",
     "text": [
      "Highest Opening Price is 53.11\n",
      "Lowest Opening Price is 34.0\n"
     ]
    }
   ],
   "source": [
    "'''\n",
    "Question 3:-Calculate what the highest and lowest opening prices were for the stock in this period.\n",
    "'''\n",
    "open_prices=[]\n",
    "for price in prices.values():\n",
    "    if price[0] != None:\n",
    "        open_prices.append(price[0])\n",
    "    \n",
    "print('Highest Opening Price is '+str(max(open_prices)))\n",
    "print('Lowest Opening Price is '+str(min(open_prices)))"
   ]
  },
  {
   "cell_type": "code",
   "execution_count": 7,
   "metadata": {},
   "outputs": [
    {
     "name": "stdout",
     "output_type": "stream",
     "text": [
      "Largest price change in any one day (based on High and Low price) 2.8100000000000023\n"
     ]
    }
   ],
   "source": [
    "'''\n",
    "Question 4:-What was the largest change in any one day (based on High and Low price)?\n",
    "'''\n",
    "\n",
    "change=[]\n",
    "for price in prices.values():\n",
    "    if price[1] != None and price[2] != None:\n",
    "        change.append(price[1] - price[2])\n",
    "    \n",
    "print('Largest price change in any one day (based on High and Low price) '+str(max(change)))"
   ]
  },
  {
   "cell_type": "code",
   "execution_count": 8,
   "metadata": {},
   "outputs": [
    {
     "name": "stdout",
     "output_type": "stream",
     "text": [
      "Largest change between any two days (based on Closing Price) is 17.699999999999996\n"
     ]
    }
   ],
   "source": [
    "'''\n",
    "Question 5:-What was the largest change between any two days (based on Closing Price)?\n",
    "'''\n",
    "change_closing_day_price = []\n",
    "prev = None\n",
    "price_values = list(prices.values())\n",
    "for i in range(len(price_values)):\n",
    "    if i == 0:\n",
    "        prev = price_values[i][3]\n",
    "        continue\n",
    "    \n",
    "    if price_values[i][3] != None:\n",
    "        change_closing_day_price.append(abs(price_values[i][3] - prev))\n",
    "    \n",
    "print('Largest change between any two days (based on Closing Price) is '+str(max(change_closing_day_price)))"
   ]
  },
  {
   "cell_type": "code",
   "execution_count": 9,
   "metadata": {},
   "outputs": [
    {
     "name": "stdout",
     "output_type": "stream",
     "text": [
      "The average daily trading volume during this year is 89124.33725490196\n"
     ]
    }
   ],
   "source": [
    "'''\n",
    "Question 6:-What was the average daily trading volume during this year?\n",
    "'''\n",
    "price_values = list(prices.values())\n",
    "average = 0 \n",
    "\n",
    "for price in price_values:\n",
    "    average = average + price[5]\n",
    "    \n",
    "average = average / len(price_values)\n",
    "\n",
    "print('The average daily trading volume during this year is '+str(average))"
   ]
  },
  {
   "cell_type": "code",
   "execution_count": 10,
   "metadata": {},
   "outputs": [
    {
     "name": "stdout",
     "output_type": "stream",
     "text": [
      "The median trading volume during this year is 117165.0\n"
     ]
    }
   ],
   "source": [
    "'''\n",
    "Question 7:-What was the median trading volume during this year?\n",
    "'''\n",
    "volume = []\n",
    "median = 0\n",
    "for price in prices.values():\n",
    "    volume.append(price[5])\n",
    "\n",
    "size = len(volume)\n",
    "if size % 2 == 0:\n",
    "    median = (volume[int(size/2)] + volumne[int((size+2)/2)])/2\n",
    "else:\n",
    "    median = volume[int((size+1)/2)]\n",
    "    \n",
    "print('The median trading volume during this year is '+str(median))"
   ]
  }
 ],
 "metadata": {
  "kernelspec": {
   "display_name": "Python 3",
   "language": "python",
   "name": "python3"
  },
  "language_info": {
   "codemirror_mode": {
    "name": "ipython",
    "version": 3
   },
   "file_extension": ".py",
   "mimetype": "text/x-python",
   "name": "python",
   "nbconvert_exporter": "python",
   "pygments_lexer": "ipython3",
   "version": "3.6.2"
  }
 },
 "nbformat": 4,
 "nbformat_minor": 2
}
